{
 "cells": [
  {
   "cell_type": "markdown",
   "metadata": {},
   "source": [
    "# Dummy Movie Review Dataset to demonstrate main NLP concepts to get you started with text analysis using Python"
   ]
  },
  {
   "cell_type": "code",
   "execution_count": 18,
   "metadata": {},
   "outputs": [],
   "source": [
    "import pandas as pd\n",
    "import warnings\n",
    "warnings.filterwarnings('ignore')"
   ]
  },
  {
   "cell_type": "code",
   "execution_count": 19,
   "metadata": {},
   "outputs": [],
   "source": [
    "#reading in the data\n",
    "\n",
    "movie_df = pd.read_csv('movies.csv')"
   ]
  },
  {
   "cell_type": "code",
   "execution_count": 20,
   "metadata": {},
   "outputs": [
    {
     "data": {
      "text/html": [
       "<div>\n",
       "<style scoped>\n",
       "    .dataframe tbody tr th:only-of-type {\n",
       "        vertical-align: middle;\n",
       "    }\n",
       "\n",
       "    .dataframe tbody tr th {\n",
       "        vertical-align: top;\n",
       "    }\n",
       "\n",
       "    .dataframe thead th {\n",
       "        text-align: right;\n",
       "    }\n",
       "</style>\n",
       "<table border=\"1\" class=\"dataframe\">\n",
       "  <thead>\n",
       "    <tr style=\"text-align: right;\">\n",
       "      <th></th>\n",
       "      <th>id</th>\n",
       "      <th>movie</th>\n",
       "      <th>review</th>\n",
       "      <th>Unnamed: 3</th>\n",
       "      <th>Unnamed: 4</th>\n",
       "    </tr>\n",
       "  </thead>\n",
       "  <tbody>\n",
       "    <tr>\n",
       "      <th>0</th>\n",
       "      <td>1</td>\n",
       "      <td>Alive in Wonderland</td>\n",
       "      <td>Tim Burton’s“Alice in Wonderland” was probably...</td>\n",
       "      <td>NaN</td>\n",
       "      <td>NaN</td>\n",
       "    </tr>\n",
       "    <tr>\n",
       "      <th>1</th>\n",
       "      <td>2</td>\n",
       "      <td>A Beautifil Mind</td>\n",
       "      <td>Beautiful Mind is a biographical movie about J...</td>\n",
       "      <td>Such movies, telling us about the life of a fa...</td>\n",
       "      <td>NaN</td>\n",
       "    </tr>\n",
       "    <tr>\n",
       "      <th>2</th>\n",
       "      <td>3</td>\n",
       "      <td>Wanted</td>\n",
       "      <td>The well-known Universal Studios film company ...</td>\n",
       "      <td>The atmosphere of comics entirely suited to th...</td>\n",
       "      <td>NaN</td>\n",
       "    </tr>\n",
       "    <tr>\n",
       "      <th>3</th>\n",
       "      <td>4</td>\n",
       "      <td>Sherlock Holmes</td>\n",
       "      <td>Robert Downey Jr. and Jude Law tried to embody...</td>\n",
       "      <td>Entangled evidence, amazing deduction of Holme...</td>\n",
       "      <td>The plot is as follows: Holmes (Robert Downey ...</td>\n",
       "    </tr>\n",
       "    <tr>\n",
       "      <th>4</th>\n",
       "      <td>4</td>\n",
       "      <td>Sherlock Holmes</td>\n",
       "      <td>Robert Downey Jr. and Jude Law tried to embody...</td>\n",
       "      <td>Entangled evidence, amazing deduction of Holme...</td>\n",
       "      <td>The plot is as follows: Holmes (Robert Downey ...</td>\n",
       "    </tr>\n",
       "    <tr>\n",
       "      <th>5</th>\n",
       "      <td>5</td>\n",
       "      <td>Kites</td>\n",
       "      <td>“Kites” is not a traditional Indian movie, but...</td>\n",
       "      <td>This story is very exciting. Moreover, it is a...</td>\n",
       "      <td>NaN</td>\n",
       "    </tr>\n",
       "  </tbody>\n",
       "</table>\n",
       "</div>"
      ],
      "text/plain": [
       "   id                movie                                             review  \\\n",
       "0   1  Alive in Wonderland  Tim Burton’s“Alice in Wonderland” was probably...   \n",
       "1   2     A Beautifil Mind  Beautiful Mind is a biographical movie about J...   \n",
       "2   3               Wanted  The well-known Universal Studios film company ...   \n",
       "3   4      Sherlock Holmes  Robert Downey Jr. and Jude Law tried to embody...   \n",
       "4   4      Sherlock Holmes  Robert Downey Jr. and Jude Law tried to embody...   \n",
       "5   5                Kites  “Kites” is not a traditional Indian movie, but...   \n",
       "\n",
       "                                          Unnamed: 3  \\\n",
       "0                                                NaN   \n",
       "1  Such movies, telling us about the life of a fa...   \n",
       "2  The atmosphere of comics entirely suited to th...   \n",
       "3  Entangled evidence, amazing deduction of Holme...   \n",
       "4  Entangled evidence, amazing deduction of Holme...   \n",
       "5  This story is very exciting. Moreover, it is a...   \n",
       "\n",
       "                                          Unnamed: 4  \n",
       "0                                                NaN  \n",
       "1                                                NaN  \n",
       "2                                                NaN  \n",
       "3  The plot is as follows: Holmes (Robert Downey ...  \n",
       "4  The plot is as follows: Holmes (Robert Downey ...  \n",
       "5                                                NaN  "
      ]
     },
     "execution_count": 20,
     "metadata": {},
     "output_type": "execute_result"
    }
   ],
   "source": [
    "movie_df"
   ]
  },
  {
   "cell_type": "markdown",
   "metadata": {},
   "source": [
    "Oh no - when copy-pasting the reviews into a csv file, single paragraphs in each review ended up in different columns. And it seems like we also have a duplicate."
   ]
  },
  {
   "cell_type": "markdown",
   "metadata": {},
   "source": [
    "## Removing Duplicates"
   ]
  },
  {
   "cell_type": "code",
   "execution_count": 21,
   "metadata": {},
   "outputs": [],
   "source": [
    "#let's remove duplicates first\n",
    "\n",
    "movie_df['dup'] = movie_df.duplicated(subset=None, keep='first')"
   ]
  },
  {
   "cell_type": "code",
   "execution_count": 22,
   "metadata": {},
   "outputs": [
    {
     "data": {
      "text/html": [
       "<div>\n",
       "<style scoped>\n",
       "    .dataframe tbody tr th:only-of-type {\n",
       "        vertical-align: middle;\n",
       "    }\n",
       "\n",
       "    .dataframe tbody tr th {\n",
       "        vertical-align: top;\n",
       "    }\n",
       "\n",
       "    .dataframe thead th {\n",
       "        text-align: right;\n",
       "    }\n",
       "</style>\n",
       "<table border=\"1\" class=\"dataframe\">\n",
       "  <thead>\n",
       "    <tr style=\"text-align: right;\">\n",
       "      <th></th>\n",
       "      <th>id</th>\n",
       "      <th>movie</th>\n",
       "      <th>review</th>\n",
       "      <th>Unnamed: 3</th>\n",
       "      <th>Unnamed: 4</th>\n",
       "      <th>dup</th>\n",
       "    </tr>\n",
       "  </thead>\n",
       "  <tbody>\n",
       "    <tr>\n",
       "      <th>0</th>\n",
       "      <td>1</td>\n",
       "      <td>Alive in Wonderland</td>\n",
       "      <td>Tim Burton’s“Alice in Wonderland” was probably...</td>\n",
       "      <td>NaN</td>\n",
       "      <td>NaN</td>\n",
       "      <td>False</td>\n",
       "    </tr>\n",
       "    <tr>\n",
       "      <th>1</th>\n",
       "      <td>2</td>\n",
       "      <td>A Beautifil Mind</td>\n",
       "      <td>Beautiful Mind is a biographical movie about J...</td>\n",
       "      <td>Such movies, telling us about the life of a fa...</td>\n",
       "      <td>NaN</td>\n",
       "      <td>False</td>\n",
       "    </tr>\n",
       "    <tr>\n",
       "      <th>2</th>\n",
       "      <td>3</td>\n",
       "      <td>Wanted</td>\n",
       "      <td>The well-known Universal Studios film company ...</td>\n",
       "      <td>The atmosphere of comics entirely suited to th...</td>\n",
       "      <td>NaN</td>\n",
       "      <td>False</td>\n",
       "    </tr>\n",
       "    <tr>\n",
       "      <th>3</th>\n",
       "      <td>4</td>\n",
       "      <td>Sherlock Holmes</td>\n",
       "      <td>Robert Downey Jr. and Jude Law tried to embody...</td>\n",
       "      <td>Entangled evidence, amazing deduction of Holme...</td>\n",
       "      <td>The plot is as follows: Holmes (Robert Downey ...</td>\n",
       "      <td>False</td>\n",
       "    </tr>\n",
       "    <tr>\n",
       "      <th>4</th>\n",
       "      <td>4</td>\n",
       "      <td>Sherlock Holmes</td>\n",
       "      <td>Robert Downey Jr. and Jude Law tried to embody...</td>\n",
       "      <td>Entangled evidence, amazing deduction of Holme...</td>\n",
       "      <td>The plot is as follows: Holmes (Robert Downey ...</td>\n",
       "      <td>True</td>\n",
       "    </tr>\n",
       "  </tbody>\n",
       "</table>\n",
       "</div>"
      ],
      "text/plain": [
       "   id                movie                                             review  \\\n",
       "0   1  Alive in Wonderland  Tim Burton’s“Alice in Wonderland” was probably...   \n",
       "1   2     A Beautifil Mind  Beautiful Mind is a biographical movie about J...   \n",
       "2   3               Wanted  The well-known Universal Studios film company ...   \n",
       "3   4      Sherlock Holmes  Robert Downey Jr. and Jude Law tried to embody...   \n",
       "4   4      Sherlock Holmes  Robert Downey Jr. and Jude Law tried to embody...   \n",
       "\n",
       "                                          Unnamed: 3  \\\n",
       "0                                                NaN   \n",
       "1  Such movies, telling us about the life of a fa...   \n",
       "2  The atmosphere of comics entirely suited to th...   \n",
       "3  Entangled evidence, amazing deduction of Holme...   \n",
       "4  Entangled evidence, amazing deduction of Holme...   \n",
       "\n",
       "                                          Unnamed: 4    dup  \n",
       "0                                                NaN  False  \n",
       "1                                                NaN  False  \n",
       "2                                                NaN  False  \n",
       "3  The plot is as follows: Holmes (Robert Downey ...  False  \n",
       "4  The plot is as follows: Holmes (Robert Downey ...   True  "
      ]
     },
     "execution_count": 22,
     "metadata": {},
     "output_type": "execute_result"
    }
   ],
   "source": [
    "movie_df.head()"
   ]
  },
  {
   "cell_type": "markdown",
   "metadata": {},
   "source": [
    "We have created a new column that stores a boolean value whether the row is a duplicate row or not. We can see that for the second Sherlock Holmes the value in that column is True. We want to delete those rows where dup == True"
   ]
  },
  {
   "cell_type": "code",
   "execution_count": 23,
   "metadata": {},
   "outputs": [],
   "source": [
    "movie_df = movie_df[movie_df['dup'] == False]"
   ]
  },
  {
   "cell_type": "code",
   "execution_count": 24,
   "metadata": {},
   "outputs": [
    {
     "data": {
      "text/html": [
       "<div>\n",
       "<style scoped>\n",
       "    .dataframe tbody tr th:only-of-type {\n",
       "        vertical-align: middle;\n",
       "    }\n",
       "\n",
       "    .dataframe tbody tr th {\n",
       "        vertical-align: top;\n",
       "    }\n",
       "\n",
       "    .dataframe thead th {\n",
       "        text-align: right;\n",
       "    }\n",
       "</style>\n",
       "<table border=\"1\" class=\"dataframe\">\n",
       "  <thead>\n",
       "    <tr style=\"text-align: right;\">\n",
       "      <th></th>\n",
       "      <th>id</th>\n",
       "      <th>movie</th>\n",
       "      <th>review</th>\n",
       "      <th>Unnamed: 3</th>\n",
       "      <th>Unnamed: 4</th>\n",
       "      <th>dup</th>\n",
       "    </tr>\n",
       "  </thead>\n",
       "  <tbody>\n",
       "    <tr>\n",
       "      <th>0</th>\n",
       "      <td>1</td>\n",
       "      <td>Alive in Wonderland</td>\n",
       "      <td>Tim Burton’s“Alice in Wonderland” was probably...</td>\n",
       "      <td>NaN</td>\n",
       "      <td>NaN</td>\n",
       "      <td>False</td>\n",
       "    </tr>\n",
       "    <tr>\n",
       "      <th>1</th>\n",
       "      <td>2</td>\n",
       "      <td>A Beautifil Mind</td>\n",
       "      <td>Beautiful Mind is a biographical movie about J...</td>\n",
       "      <td>Such movies, telling us about the life of a fa...</td>\n",
       "      <td>NaN</td>\n",
       "      <td>False</td>\n",
       "    </tr>\n",
       "    <tr>\n",
       "      <th>2</th>\n",
       "      <td>3</td>\n",
       "      <td>Wanted</td>\n",
       "      <td>The well-known Universal Studios film company ...</td>\n",
       "      <td>The atmosphere of comics entirely suited to th...</td>\n",
       "      <td>NaN</td>\n",
       "      <td>False</td>\n",
       "    </tr>\n",
       "    <tr>\n",
       "      <th>3</th>\n",
       "      <td>4</td>\n",
       "      <td>Sherlock Holmes</td>\n",
       "      <td>Robert Downey Jr. and Jude Law tried to embody...</td>\n",
       "      <td>Entangled evidence, amazing deduction of Holme...</td>\n",
       "      <td>The plot is as follows: Holmes (Robert Downey ...</td>\n",
       "      <td>False</td>\n",
       "    </tr>\n",
       "    <tr>\n",
       "      <th>5</th>\n",
       "      <td>5</td>\n",
       "      <td>Kites</td>\n",
       "      <td>“Kites” is not a traditional Indian movie, but...</td>\n",
       "      <td>This story is very exciting. Moreover, it is a...</td>\n",
       "      <td>NaN</td>\n",
       "      <td>False</td>\n",
       "    </tr>\n",
       "  </tbody>\n",
       "</table>\n",
       "</div>"
      ],
      "text/plain": [
       "   id                movie                                             review  \\\n",
       "0   1  Alive in Wonderland  Tim Burton’s“Alice in Wonderland” was probably...   \n",
       "1   2     A Beautifil Mind  Beautiful Mind is a biographical movie about J...   \n",
       "2   3               Wanted  The well-known Universal Studios film company ...   \n",
       "3   4      Sherlock Holmes  Robert Downey Jr. and Jude Law tried to embody...   \n",
       "5   5                Kites  “Kites” is not a traditional Indian movie, but...   \n",
       "\n",
       "                                          Unnamed: 3  \\\n",
       "0                                                NaN   \n",
       "1  Such movies, telling us about the life of a fa...   \n",
       "2  The atmosphere of comics entirely suited to th...   \n",
       "3  Entangled evidence, amazing deduction of Holme...   \n",
       "5  This story is very exciting. Moreover, it is a...   \n",
       "\n",
       "                                          Unnamed: 4    dup  \n",
       "0                                                NaN  False  \n",
       "1                                                NaN  False  \n",
       "2                                                NaN  False  \n",
       "3  The plot is as follows: Holmes (Robert Downey ...  False  \n",
       "5                                                NaN  False  "
      ]
     },
     "execution_count": 24,
     "metadata": {},
     "output_type": "execute_result"
    }
   ],
   "source": [
    "movie_df"
   ]
  },
  {
   "cell_type": "code",
   "execution_count": 25,
   "metadata": {},
   "outputs": [],
   "source": [
    "del movie_df['dup'] # deleting \"dup\" column since we don't need it anymore"
   ]
  },
  {
   "cell_type": "markdown",
   "metadata": {},
   "source": [
    "## Merging Columns"
   ]
  },
  {
   "cell_type": "markdown",
   "metadata": {},
   "source": [
    "let's use the code we found on stackoverflow in order to merge the 3 review columns into one"
   ]
  },
  {
   "cell_type": "code",
   "execution_count": 26,
   "metadata": {},
   "outputs": [],
   "source": [
    "\n",
    "movie_df['full_review'] = movie_df[movie_df.columns[2:]].apply(\n",
    "    lambda x: ' '.join(x.dropna().astype(str)),\n",
    "    axis=1\n",
    ")\n",
    "\n"
   ]
  },
  {
   "cell_type": "markdown",
   "metadata": {},
   "source": [
    "### List slicing and lambda functions in python\n",
    "Ok, a lot is going on in the function abovebut let's break it down\n",
    "1. we are creating a new column (full_review) which will contain the whole review \n",
    "2. we select all columns starting from columns 2 (review) until the end. That's what [2:] is doing: starting from column 3 (column 0 being the first) and select all the columns until the end, hence no ending slice. \n",
    "3. we are applying a lambda function to selected cell (x). A lambda function is a small anonymous function and comes handy when we are doing an operation only once and do not need to define a separate function for it\n",
    "4. the function iterates through each cell in the row starting at column 3 and joins it with the subsequent cells as a type string. If there cell is empty we ignore it (dropna()) otherwise we would have \"na\" added at the end of the review text. The reason why we are expresively defining that the cell should be of type string is because some entries might not have an incident text (all NANs) and would be picked up by python as a float type. \n",
    "5. the function goes through each row in the dataframe and does the merging described in 4.\n"
   ]
  },
  {
   "cell_type": "code",
   "execution_count": 27,
   "metadata": {},
   "outputs": [
    {
     "data": {
      "text/html": [
       "<div>\n",
       "<style scoped>\n",
       "    .dataframe tbody tr th:only-of-type {\n",
       "        vertical-align: middle;\n",
       "    }\n",
       "\n",
       "    .dataframe tbody tr th {\n",
       "        vertical-align: top;\n",
       "    }\n",
       "\n",
       "    .dataframe thead th {\n",
       "        text-align: right;\n",
       "    }\n",
       "</style>\n",
       "<table border=\"1\" class=\"dataframe\">\n",
       "  <thead>\n",
       "    <tr style=\"text-align: right;\">\n",
       "      <th></th>\n",
       "      <th>id</th>\n",
       "      <th>movie</th>\n",
       "      <th>review</th>\n",
       "      <th>Unnamed: 3</th>\n",
       "      <th>Unnamed: 4</th>\n",
       "      <th>full_review</th>\n",
       "    </tr>\n",
       "  </thead>\n",
       "  <tbody>\n",
       "    <tr>\n",
       "      <th>0</th>\n",
       "      <td>1</td>\n",
       "      <td>Alive in Wonderland</td>\n",
       "      <td>Tim Burton’s“Alice in Wonderland” was probably...</td>\n",
       "      <td>NaN</td>\n",
       "      <td>NaN</td>\n",
       "      <td>Tim Burton’s“Alice in Wonderland” was probably...</td>\n",
       "    </tr>\n",
       "    <tr>\n",
       "      <th>1</th>\n",
       "      <td>2</td>\n",
       "      <td>A Beautifil Mind</td>\n",
       "      <td>Beautiful Mind is a biographical movie about J...</td>\n",
       "      <td>Such movies, telling us about the life of a fa...</td>\n",
       "      <td>NaN</td>\n",
       "      <td>Beautiful Mind is a biographical movie about J...</td>\n",
       "    </tr>\n",
       "    <tr>\n",
       "      <th>2</th>\n",
       "      <td>3</td>\n",
       "      <td>Wanted</td>\n",
       "      <td>The well-known Universal Studios film company ...</td>\n",
       "      <td>The atmosphere of comics entirely suited to th...</td>\n",
       "      <td>NaN</td>\n",
       "      <td>The well-known Universal Studios film company ...</td>\n",
       "    </tr>\n",
       "    <tr>\n",
       "      <th>3</th>\n",
       "      <td>4</td>\n",
       "      <td>Sherlock Holmes</td>\n",
       "      <td>Robert Downey Jr. and Jude Law tried to embody...</td>\n",
       "      <td>Entangled evidence, amazing deduction of Holme...</td>\n",
       "      <td>The plot is as follows: Holmes (Robert Downey ...</td>\n",
       "      <td>Robert Downey Jr. and Jude Law tried to embody...</td>\n",
       "    </tr>\n",
       "    <tr>\n",
       "      <th>5</th>\n",
       "      <td>5</td>\n",
       "      <td>Kites</td>\n",
       "      <td>“Kites” is not a traditional Indian movie, but...</td>\n",
       "      <td>This story is very exciting. Moreover, it is a...</td>\n",
       "      <td>NaN</td>\n",
       "      <td>“Kites” is not a traditional Indian movie, but...</td>\n",
       "    </tr>\n",
       "  </tbody>\n",
       "</table>\n",
       "</div>"
      ],
      "text/plain": [
       "   id                movie                                             review  \\\n",
       "0   1  Alive in Wonderland  Tim Burton’s“Alice in Wonderland” was probably...   \n",
       "1   2     A Beautifil Mind  Beautiful Mind is a biographical movie about J...   \n",
       "2   3               Wanted  The well-known Universal Studios film company ...   \n",
       "3   4      Sherlock Holmes  Robert Downey Jr. and Jude Law tried to embody...   \n",
       "5   5                Kites  “Kites” is not a traditional Indian movie, but...   \n",
       "\n",
       "                                          Unnamed: 3  \\\n",
       "0                                                NaN   \n",
       "1  Such movies, telling us about the life of a fa...   \n",
       "2  The atmosphere of comics entirely suited to th...   \n",
       "3  Entangled evidence, amazing deduction of Holme...   \n",
       "5  This story is very exciting. Moreover, it is a...   \n",
       "\n",
       "                                          Unnamed: 4  \\\n",
       "0                                                NaN   \n",
       "1                                                NaN   \n",
       "2                                                NaN   \n",
       "3  The plot is as follows: Holmes (Robert Downey ...   \n",
       "5                                                NaN   \n",
       "\n",
       "                                         full_review  \n",
       "0  Tim Burton’s“Alice in Wonderland” was probably...  \n",
       "1  Beautiful Mind is a biographical movie about J...  \n",
       "2  The well-known Universal Studios film company ...  \n",
       "3  Robert Downey Jr. and Jude Law tried to embody...  \n",
       "5  “Kites” is not a traditional Indian movie, but...  "
      ]
     },
     "execution_count": 27,
     "metadata": {},
     "output_type": "execute_result"
    }
   ],
   "source": [
    "movie_df.head()"
   ]
  },
  {
   "cell_type": "code",
   "execution_count": 28,
   "metadata": {},
   "outputs": [
    {
     "data": {
      "text/plain": [
       "'Robert Downey Jr. and Jude Law tried to embody unforgettable images of Sherlock Holmes and Doctor Watson in this bold new film version. In G. Ritchie’s “Sherlock Holmes” the legendary detective shows not only his unmatched intelligence, but also considerable physical training as well. Entangled evidence, amazing deduction of Holmes and his lively mind combine into an exciting series of grueling events. The director Guy Ritchie represents a fascinating adaptation of one of the world’s best detectives. Meet the new Sherlock Holmes! The plot is as follows: Holmes (Robert Downey Jr.) is rather depressed because of the possibility of Watson’s (Jude Law) marriage. His mood is also compounded by the absence of interesting cases. Trying to relax, he invents a silencer, does not go out of his room, participates in fights without rules and plays violin.'"
      ]
     },
     "execution_count": 28,
     "metadata": {},
     "output_type": "execute_result"
    }
   ],
   "source": [
    "movie_df.iloc[3,5]"
   ]
  },
  {
   "cell_type": "markdown",
   "metadata": {},
   "source": [
    "## Preprocessing\n",
    "\n",
    "Great, it has worked. Let's delete the redundant columns and do some text preprocessing"
   ]
  },
  {
   "cell_type": "code",
   "execution_count": 29,
   "metadata": {},
   "outputs": [],
   "source": [
    "cols = [2,3,4]  #column indexes we dont need\n",
    "movie_df.drop(movie_df.columns[cols],axis=1,inplace=True)"
   ]
  },
  {
   "cell_type": "code",
   "execution_count": 30,
   "metadata": {},
   "outputs": [
    {
     "data": {
      "text/html": [
       "<div>\n",
       "<style scoped>\n",
       "    .dataframe tbody tr th:only-of-type {\n",
       "        vertical-align: middle;\n",
       "    }\n",
       "\n",
       "    .dataframe tbody tr th {\n",
       "        vertical-align: top;\n",
       "    }\n",
       "\n",
       "    .dataframe thead th {\n",
       "        text-align: right;\n",
       "    }\n",
       "</style>\n",
       "<table border=\"1\" class=\"dataframe\">\n",
       "  <thead>\n",
       "    <tr style=\"text-align: right;\">\n",
       "      <th></th>\n",
       "      <th>id</th>\n",
       "      <th>movie</th>\n",
       "      <th>full_review</th>\n",
       "    </tr>\n",
       "  </thead>\n",
       "  <tbody>\n",
       "    <tr>\n",
       "      <th>0</th>\n",
       "      <td>1</td>\n",
       "      <td>Alive in Wonderland</td>\n",
       "      <td>Tim Burton’s“Alice in Wonderland” was probably...</td>\n",
       "    </tr>\n",
       "    <tr>\n",
       "      <th>1</th>\n",
       "      <td>2</td>\n",
       "      <td>A Beautifil Mind</td>\n",
       "      <td>Beautiful Mind is a biographical movie about J...</td>\n",
       "    </tr>\n",
       "    <tr>\n",
       "      <th>2</th>\n",
       "      <td>3</td>\n",
       "      <td>Wanted</td>\n",
       "      <td>The well-known Universal Studios film company ...</td>\n",
       "    </tr>\n",
       "    <tr>\n",
       "      <th>3</th>\n",
       "      <td>4</td>\n",
       "      <td>Sherlock Holmes</td>\n",
       "      <td>Robert Downey Jr. and Jude Law tried to embody...</td>\n",
       "    </tr>\n",
       "    <tr>\n",
       "      <th>5</th>\n",
       "      <td>5</td>\n",
       "      <td>Kites</td>\n",
       "      <td>“Kites” is not a traditional Indian movie, but...</td>\n",
       "    </tr>\n",
       "  </tbody>\n",
       "</table>\n",
       "</div>"
      ],
      "text/plain": [
       "   id                movie                                        full_review\n",
       "0   1  Alive in Wonderland  Tim Burton’s“Alice in Wonderland” was probably...\n",
       "1   2     A Beautifil Mind  Beautiful Mind is a biographical movie about J...\n",
       "2   3               Wanted  The well-known Universal Studios film company ...\n",
       "3   4      Sherlock Holmes  Robert Downey Jr. and Jude Law tried to embody...\n",
       "5   5                Kites  “Kites” is not a traditional Indian movie, but..."
      ]
     },
     "execution_count": 30,
     "metadata": {},
     "output_type": "execute_result"
    }
   ],
   "source": [
    "movie_df"
   ]
  },
  {
   "cell_type": "code",
   "execution_count": 31,
   "metadata": {},
   "outputs": [],
   "source": [
    "import re\n",
    "from nltk.stem import WordNetLemmatizer, PorterStemmer, SnowballStemmer\n",
    "stop_words_file = 'SmartStoplist.txt'\n",
    "\n",
    "stop_words = []\n",
    "\n",
    "with open(stop_words_file, \"r\") as f:\n",
    "    for line in f:\n",
    "        stop_words.extend(line.split()) \n",
    "        \n",
    "stop_words = stop_words  \n",
    "\n",
    "def preprocess(raw_text):\n",
    "    \n",
    "    #regular expression keeping only letters \n",
    "    letters_only_text = re.sub(\"[^a-zA-Z]\", \" \", raw_text)\n",
    "\n",
    "    # convert to lower case and split into words -> convert string into list ( 'hello world' -> ['hello', 'world'])\n",
    "    words = letters_only_text.lower().split()\n",
    "\n",
    "    cleaned_words = []\n",
    "    lemmatizer = PorterStemmer() #plug in here any other stemmer or lemmatiser you want to try out\n",
    "    \n",
    "    # remove stopwords\n",
    "    for word in words:\n",
    "        if word not in stop_words:\n",
    "            cleaned_words.append(word)\n",
    "    \n",
    "    # stemm or lemmatise words\n",
    "    stemmed_words = []\n",
    "    for word in cleaned_words:\n",
    "        word = lemmatizer.stem(word)   #dont forget to change stem to lemmatize if you are using a lemmatizer\n",
    "        stemmed_words.append(word)\n",
    "    \n",
    "    # converting list back to string\n",
    "    return \" \".join(stemmed_words)"
   ]
  },
  {
   "cell_type": "code",
   "execution_count": 44,
   "metadata": {},
   "outputs": [
    {
     "data": {
      "text/plain": [
       "'disappoint demonstr preprocess function work'"
      ]
     },
     "execution_count": 44,
     "metadata": {},
     "output_type": "execute_result"
    }
   ],
   "source": [
    "test_sentence = \"this is a sentence to demonstrate how the preprocessing function works...!\"\n",
    "\n",
    "preprocess(test_sentence)"
   ]
  },
  {
   "cell_type": "markdown",
   "metadata": {},
   "source": [
    "you can see that \"sentence\" was stemmed to \"sentenc\", all stop words and punctuation were removed.\n",
    "Let's apply that function to the incident texts in our movies dataframe"
   ]
  },
  {
   "cell_type": "code",
   "execution_count": 33,
   "metadata": {},
   "outputs": [],
   "source": [
    "movie_df['prep'] = movie_df['full_review'].apply(preprocess)  \n"
   ]
  },
  {
   "cell_type": "code",
   "execution_count": 34,
   "metadata": {},
   "outputs": [
    {
     "data": {
      "text/html": [
       "<div>\n",
       "<style scoped>\n",
       "    .dataframe tbody tr th:only-of-type {\n",
       "        vertical-align: middle;\n",
       "    }\n",
       "\n",
       "    .dataframe tbody tr th {\n",
       "        vertical-align: top;\n",
       "    }\n",
       "\n",
       "    .dataframe thead th {\n",
       "        text-align: right;\n",
       "    }\n",
       "</style>\n",
       "<table border=\"1\" class=\"dataframe\">\n",
       "  <thead>\n",
       "    <tr style=\"text-align: right;\">\n",
       "      <th></th>\n",
       "      <th>id</th>\n",
       "      <th>movie</th>\n",
       "      <th>full_review</th>\n",
       "      <th>prep</th>\n",
       "    </tr>\n",
       "  </thead>\n",
       "  <tbody>\n",
       "    <tr>\n",
       "      <th>0</th>\n",
       "      <td>1</td>\n",
       "      <td>Alive in Wonderland</td>\n",
       "      <td>Tim Burton’s“Alice in Wonderland” was probably...</td>\n",
       "      <td>tim burton alic wonderland anticip movi year g...</td>\n",
       "    </tr>\n",
       "    <tr>\n",
       "      <th>1</th>\n",
       "      <td>2</td>\n",
       "      <td>A Beautifil Mind</td>\n",
       "      <td>Beautiful Mind is a biographical movie about J...</td>\n",
       "      <td>beauti mind biograph movi john forb nash junio...</td>\n",
       "    </tr>\n",
       "    <tr>\n",
       "      <th>2</th>\n",
       "      <td>3</td>\n",
       "      <td>Wanted</td>\n",
       "      <td>The well-known Universal Studios film company ...</td>\n",
       "      <td>univers studio film compani plan shoot movi wa...</td>\n",
       "    </tr>\n",
       "    <tr>\n",
       "      <th>3</th>\n",
       "      <td>4</td>\n",
       "      <td>Sherlock Holmes</td>\n",
       "      <td>Robert Downey Jr. and Jude Law tried to embody...</td>\n",
       "      <td>robert downey jr jude law embodi unforgett ima...</td>\n",
       "    </tr>\n",
       "    <tr>\n",
       "      <th>5</th>\n",
       "      <td>5</td>\n",
       "      <td>Kites</td>\n",
       "      <td>“Kites” is not a traditional Indian movie, but...</td>\n",
       "      <td>kite tradit indian movi breath take action fil...</td>\n",
       "    </tr>\n",
       "  </tbody>\n",
       "</table>\n",
       "</div>"
      ],
      "text/plain": [
       "   id                movie                                        full_review  \\\n",
       "0   1  Alive in Wonderland  Tim Burton’s“Alice in Wonderland” was probably...   \n",
       "1   2     A Beautifil Mind  Beautiful Mind is a biographical movie about J...   \n",
       "2   3               Wanted  The well-known Universal Studios film company ...   \n",
       "3   4      Sherlock Holmes  Robert Downey Jr. and Jude Law tried to embody...   \n",
       "5   5                Kites  “Kites” is not a traditional Indian movie, but...   \n",
       "\n",
       "                                                prep  \n",
       "0  tim burton alic wonderland anticip movi year g...  \n",
       "1  beauti mind biograph movi john forb nash junio...  \n",
       "2  univers studio film compani plan shoot movi wa...  \n",
       "3  robert downey jr jude law embodi unforgett ima...  \n",
       "5  kite tradit indian movi breath take action fil...  "
      ]
     },
     "execution_count": 34,
     "metadata": {},
     "output_type": "execute_result"
    }
   ],
   "source": [
    "movie_df.head()"
   ]
  },
  {
   "cell_type": "markdown",
   "metadata": {},
   "source": [
    "## Most Common Words\n",
    "In order to get an idea about a dataset, it's useful to have a look at the most common words. Reading through all incident texts is cumbersome and inefficient. Let's extract the most common key words\n"
   ]
  },
  {
   "cell_type": "code",
   "execution_count": 35,
   "metadata": {},
   "outputs": [
    {
     "data": {
      "text/plain": [
       "[('movi', 8),\n",
       " ('film', 8),\n",
       " ('holm', 5),\n",
       " ('hard', 4),\n",
       " ('alic', 3),\n",
       " ('stori', 3),\n",
       " ('life', 3),\n",
       " ('speak', 3),\n",
       " ('mind', 3),\n",
       " ('want', 3)]"
      ]
     },
     "execution_count": 35,
     "metadata": {},
     "output_type": "execute_result"
    }
   ],
   "source": [
    "\n",
    "from collections import Counter\n",
    "Counter(\" \".join(movie_df[\"prep\"]).split()).most_common(10)"
   ]
  },
  {
   "cell_type": "code",
   "execution_count": 40,
   "metadata": {},
   "outputs": [
    {
     "data": {
      "image/png": "[encoded data removed]",
      "text/plain": [
       "<Figure size 360x360 with 1 Axes>"
      ]
     },
     "metadata": {
      "needs_background": "light"
     },
     "output_type": "display_data"
    }
   ],
   "source": [
    "#nice library to produce wordclouds\n",
    "from wordcloud import WordCloud\n",
    "\n",
    "import matplotlib.pyplot as plt\n",
    "# if uising a Jupyter notebook, include:\n",
    "%matplotlib inline\n",
    "\n",
    "all_words = '' \n",
    "\n",
    "#looping through all incidents and joining them to one text, to extract most common words\n",
    "for arg in movie_df[\"prep\"]: \n",
    "\n",
    "    tokens = arg.split()  \n",
    "      \n",
    "    all_words += \" \".join(tokens)+\" \"\n",
    "\n",
    "wordcloud = WordCloud(width = 700, height = 700, \n",
    "                background_color ='white', \n",
    "                min_font_size = 10).generate(all_words) \n",
    "  \n",
    "# plot the WordCloud image                        \n",
    "plt.figure(figsize = (5, 5), facecolor = None) \n",
    "plt.imshow(wordcloud) \n",
    "plt.axis(\"off\") \n",
    "plt.tight_layout(pad = 0) \n",
    "  \n",
    "plt.show()"
   ]
  },
  {
   "cell_type": "code",
   "execution_count": 42,
   "metadata": {},
   "outputs": [
    {
     "name": "stdout",
     "output_type": "stream",
     "text": [
      "('beauti', 'mind') 2\n",
      "('robert', 'downey') 2\n",
      "('downey', 'jr') 2\n",
      "('jude', 'law') 2\n",
      "('sherlock', 'holm') 3\n",
      "('love', 'stori') 2\n"
     ]
    }
   ],
   "source": [
    "from nltk.util import ngrams\n",
    "n_gram = 2\n",
    "n_gram_dic = dict(Counter(ngrams(all_words.split(), n_gram)))\n",
    "\n",
    "for i in n_gram_dic:\n",
    "    if n_gram_dic[i] >= 2:\n",
    "        print(i, n_gram_dic[i])\n",
    "    "
   ]
  },
  {
   "cell_type": "markdown",
   "metadata": {},
   "source": [
    "## That's it (for now)\n",
    "\n",
    "Given it's only 5 movie reviews there is of course not much else interesting to do with the tools we have covered in the medium article. However, I hope I have covered enough to get you started. Feel free to check out the US Railroad incident notebook in the same github repository as this one. Feel free to copy the preprocessing function and re-use it and any other code you might find useful"
   ]
  }
 ],
 "metadata": {
  "kernelspec": {
   "display_name": "Python 3",
   "language": "python",
   "name": "python3"
  },
  "language_info": {
   "codemirror_mode": {
    "name": "ipython",
    "version": 3
   },
   "file_extension": ".py",
   "mimetype": "text/x-python",
   "name": "python",
   "nbconvert_exporter": "python",
   "pygments_lexer": "ipython3",
   "version": "3.7.5"
  }
 },
 "nbformat": 4,
 "nbformat_minor": 2
}
